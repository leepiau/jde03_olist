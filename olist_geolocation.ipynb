{
 "cells": [
  {
   "cell_type": "code",
   "execution_count": null,
   "id": "618202fe",
   "metadata": {
    "id": "618202fe"
   },
   "outputs": [],
   "source": [
    "import pandas as pd\n",
    "import numpy as np\n",
    "import time\n",
    "import sqlalchemy as db\n",
    "import unidecode"
   ]
  },
  {
   "cell_type": "markdown",
   "id": "17909def",
   "metadata": {},
   "source": [
    "# Download and inspect Dataset"
   ]
  },
  {
   "cell_type": "code",
   "execution_count": null,
   "id": "bc16572f",
   "metadata": {
    "colab": {
     "base_uri": "https://localhost:8080/"
    },
    "id": "bc16572f",
    "outputId": "d9a636ac-8457-4af7-e289-254469269226"
   },
   "outputs": [],
   "source": [
    "# Download data from storage, convert to a dataframe\n",
    "# geo_df = pd.read_csv('https://jde03store.blob.core.windows.net/olist/olist_geolocation_dataset.csv')\n",
    "geo_df = pd.read_csv('~\\olist_geolocation_dataset.csv')\n",
    "geo_df.info()"
   ]
  },
  {
   "cell_type": "code",
   "execution_count": null,
   "id": "bcc7af01",
   "metadata": {
    "id": "bcc7af01"
   },
   "outputs": [],
   "source": [
    "# Look at first 5 entries\n",
    "geo_df.head()"
   ]
  },
  {
   "cell_type": "code",
   "execution_count": null,
   "id": "4e384953",
   "metadata": {
    "id": "4e384953"
   },
   "outputs": [],
   "source": [
    "# Zip code prefix should be 5 digits long with leading zeroes\n",
    "geo_df['geolocation_zip_code_prefix'] = geo_df['geolocation_zip_code_prefix'].apply(lambda x: '{0:0>5}'.format(x))"
   ]
  },
  {
   "cell_type": "code",
   "execution_count": null,
   "id": "4c15ff5f",
   "metadata": {
    "id": "4c15ff5f"
   },
   "outputs": [],
   "source": [
    "# Change lat/lng fields to strings to check for duplicates\n",
    "geo_df['geolocation_lat'] = geo_df['geolocation_lat'].apply(str)\n",
    "geo_df['geolocation_lng'] = geo_df['geolocation_lng'].apply(str)\n",
    "geo_df.info()"
   ]
  },
  {
   "cell_type": "code",
   "execution_count": null,
   "id": "206bffe0",
   "metadata": {
    "id": "206bffe0"
   },
   "outputs": [],
   "source": [
    "# Inspect unique values in city (1)\n",
    "city = list(geo_df['geolocation_city'].unique())\n",
    "print('Unique city values: ', geo_df['geolocation_city'].nunique(), '\\n', city)"
   ]
  },
  {
   "cell_type": "code",
   "execution_count": null,
   "id": "f42bd4b5",
   "metadata": {
    "id": "f42bd4b5",
    "scrolled": true
   },
   "outputs": [],
   "source": [
    "# Count duplicates\n",
    "num_dupes = geo_df.duplicated()\n",
    "print(num_dupes.sum() / len(geo_df))"
   ]
  },
  {
   "cell_type": "code",
   "execution_count": null,
   "id": "41bcebd7",
   "metadata": {
    "id": "41bcebd7"
   },
   "outputs": [],
   "source": [
    "# Inspect sample duplicates to verify\n",
    "num_dupes = geo_df.duplicated(keep=False)\n",
    "display(geo_df[num_dupes].sort_values(['geolocation_lat', 'geolocation_lng']))"
   ]
  },
  {
   "cell_type": "code",
   "execution_count": null,
   "id": "0ae8fee0",
   "metadata": {
    "colab": {
     "base_uri": "https://localhost:8080/"
    },
    "id": "0ae8fee0",
    "outputId": "297fc09a-037c-46c1-f80d-ce7b709b3a62"
   },
   "outputs": [],
   "source": [
    "# Drop duplicates\n",
    "geo_df.drop_duplicates(inplace = True)\n",
    "geo_df.info()"
   ]
  },
  {
   "cell_type": "code",
   "execution_count": null,
   "id": "1f395a3f",
   "metadata": {},
   "outputs": [],
   "source": [
    "display(geo_df)"
   ]
  },
  {
   "cell_type": "markdown",
   "id": "e086a2f0",
   "metadata": {
    "id": "e086a2f0"
   },
   "source": [
    "# Plenty of mis-spellings of city, means more dupes\n",
    "# Check for dupes based on location info"
   ]
  },
  {
   "cell_type": "code",
   "execution_count": null,
   "id": "49e088c6",
   "metadata": {
    "id": "49e088c6"
   },
   "outputs": [],
   "source": [
    "# Can 1 city have multiple zip code prefixes? Yes\n",
    "# Can there be duplicate zip code prefixes? Yes\n",
    "subset = ['geolocation_zip_code_prefix', 'geolocation_lat', 'geolocation_lng']\n",
    "loc_dupe = geo_df.duplicated(subset = subset, keep = False)\n",
    "geo_df[loc_dupe].sort_values(by = 'geolocation_lat')"
   ]
  },
  {
   "cell_type": "code",
   "execution_count": null,
   "id": "e60dd7d6",
   "metadata": {
    "colab": {
     "base_uri": "https://localhost:8080/"
    },
    "id": "e60dd7d6",
    "outputId": "07b24745-2f95-48af-d22e-7fc9cfddef97"
   },
   "outputs": [],
   "source": [
    "# Remove dupes\n",
    "geo_df = geo_df.drop_duplicates(subset = subset, keep = 'first').reset_index(drop = True)\n",
    "geo_df.info()"
   ]
  },
  {
   "cell_type": "code",
   "execution_count": null,
   "id": "0261b24e",
   "metadata": {},
   "outputs": [],
   "source": [
    "display(geo_df.sort_values('geolocation_zip_code_prefix'))"
   ]
  },
  {
   "cell_type": "code",
   "execution_count": null,
   "id": "d5c974b4",
   "metadata": {
    "scrolled": true
   },
   "outputs": [],
   "source": [
    "# Inspect unique values in city (2)\n",
    "print('Unique city values: ', geo_df['geolocation_city'].nunique())"
   ]
  },
  {
   "cell_type": "markdown",
   "id": "df6d1d59",
   "metadata": {},
   "source": [
    "# Use city_names from customer table"
   ]
  },
  {
   "cell_type": "code",
   "execution_count": null,
   "id": "78795b27",
   "metadata": {},
   "outputs": [],
   "source": [
    "# Import customers database\n",
    "cust_df = pd.read_csv(\"C:\\\\Users\\leepi\\Downloads\\Final Project Dataset\\data\\olist_customers_dataset.csv\")\n",
    "cust_df.info()"
   ]
  },
  {
   "cell_type": "code",
   "execution_count": null,
   "id": "ac91b38b",
   "metadata": {},
   "outputs": [],
   "source": [
    "# Change field to string object to match geolocation table\n",
    "cust_df['customer_zip_code_prefix'] = cust_df['customer_zip_code_prefix'].apply(str)"
   ]
  },
  {
   "cell_type": "code",
   "execution_count": null,
   "id": "eca04227",
   "metadata": {},
   "outputs": [],
   "source": [
    "# Extract zip_code and city fields only\n",
    "zip_df = cust_df[['customer_zip_code_prefix', 'customer_city']]"
   ]
  },
  {
   "cell_type": "code",
   "execution_count": null,
   "id": "070b8cca",
   "metadata": {
    "scrolled": true
   },
   "outputs": [],
   "source": [
    "# Drop duplicates\n",
    "zip = zip_df.drop_duplicates()"
   ]
  },
  {
   "cell_type": "code",
   "execution_count": null,
   "id": "18103477",
   "metadata": {},
   "outputs": [],
   "source": [
    "display(zip.sort_values('customer_zip_code_prefix'))"
   ]
  },
  {
   "cell_type": "code",
   "execution_count": null,
   "id": "cd0365f3",
   "metadata": {
    "scrolled": true
   },
   "outputs": [],
   "source": [
    "# Merge geo_df with zip with a 'left join'\n",
    "merged_df = geo_df.merge(zip, how='left', left_on='geolocation_zip_code_prefix', right_on='customer_zip_code_prefix')"
   ]
  },
  {
   "cell_type": "code",
   "execution_count": null,
   "id": "f0fbb699",
   "metadata": {},
   "outputs": [],
   "source": [
    "# Replace geolocation_city with customer_city only if customer_city exists\n",
    "merged_df['geolocation_city'] = merged_df['customer_city'].combine_first(merged_df['geolocation_city'])"
   ]
  },
  {
   "cell_type": "code",
   "execution_count": null,
   "id": "ebf10eca",
   "metadata": {},
   "outputs": [],
   "source": [
    "# Remove customer columns\n",
    "merged_df.drop(columns=['customer_city', 'customer_zip_code_prefix'], inplace=True)"
   ]
  },
  {
   "cell_type": "code",
   "execution_count": null,
   "id": "d44faf14",
   "metadata": {},
   "outputs": [],
   "source": [
    "# Inspect unique values in city\n",
    "city = list(merged_df['geolocation_city'].unique())\n",
    "print('Unique city values: ', merged_df['geolocation_city'].nunique(), '\\n', city)"
   ]
  },
  {
   "cell_type": "code",
   "execution_count": null,
   "id": "4d0bc4f9",
   "metadata": {},
   "outputs": [],
   "source": [
    "# Write function to replace special characters (portuguese orthography)\n",
    "def replace_special_characters(df, column):\n",
    "    df[column] = df[column].apply(unidecode.unidecode)\n",
    "    return df"
   ]
  },
  {
   "cell_type": "code",
   "execution_count": null,
   "id": "08ded4e4",
   "metadata": {},
   "outputs": [],
   "source": [
    "# Run function on merged_df\n",
    "replace_special_characters(merged_df, 'geolocation_city')"
   ]
  },
  {
   "cell_type": "code",
   "execution_count": null,
   "id": "321109d7",
   "metadata": {
    "scrolled": true
   },
   "outputs": [],
   "source": [
    "# Inspect unique values in city (1)\n",
    "city = list(merged_df['geolocation_city'].unique())\n",
    "print('Unique city values: ', merged_df['geolocation_city'].nunique(), '\\n', city)"
   ]
  },
  {
   "cell_type": "code",
   "execution_count": null,
   "id": "2682511b",
   "metadata": {},
   "outputs": [],
   "source": [
    "# Export to .csv file\n",
    "merged_df.to_csv('geolocation_cleaned_merged.csv')"
   ]
  },
  {
   "cell_type": "markdown",
   "id": "ece1f12c",
   "metadata": {},
   "source": [
    "# Create table in db"
   ]
  },
  {
   "cell_type": "code",
   "execution_count": null,
   "id": "189e7cdb",
   "metadata": {
    "id": "189e7cdb"
   },
   "outputs": [],
   "source": [
    "# Connect to DB\n",
    "engine = db.create_engine('url')\n",
    "conn = engine.raw_connection()"
   ]
  },
  {
   "cell_type": "code",
   "execution_count": null,
   "id": "1282497b",
   "metadata": {
    "id": "1282497b"
   },
   "outputs": [],
   "source": [
    "# Create new table in PostgreSQL\n",
    "commands = ('''CREATE TABLE IF NOT EXISTS geolocation(\n",
    ");''')\n",
    "\n",
    "# Initialize connection to PostgreSQL\n",
    "cur = conn.cursor()\n",
    "\n",
    "# Create cursor to execute SQL commands\n",
    "#for command in commands:\n",
    "cur.execute(commands)\n",
    "\n",
    "# Commit changes\n",
    "conn.commit()"
   ]
  },
  {
   "cell_type": "code",
   "execution_count": null,
   "id": "f98dbe3a",
   "metadata": {
    "id": "f98dbe3a"
   },
   "outputs": [],
   "source": [
    "# Copy data to table\n",
    "geo_df.to_sql(name= 'geolocation', con = engine, if_exists= 'replace')"
   ]
  },
  {
   "cell_type": "code",
   "execution_count": null,
   "id": "a29eb432",
   "metadata": {
    "id": "a29eb432"
   },
   "outputs": [],
   "source": [
    "# Close communication with server\n",
    "cur.close()\n",
    "conn.close()"
   ]
  }
 ],
 "metadata": {
  "accelerator": "TPU",
  "colab": {
   "history_visible": true,
   "provenance": []
  },
  "kernelspec": {
   "display_name": "Python 3 (ipykernel)",
   "language": "python",
   "name": "python3"
  },
  "language_info": {
   "codemirror_mode": {
    "name": "ipython",
    "version": 3
   },
   "file_extension": ".py",
   "mimetype": "text/x-python",
   "name": "python",
   "nbconvert_exporter": "python",
   "pygments_lexer": "ipython3",
   "version": "3.11.5"
  }
 },
 "nbformat": 4,
 "nbformat_minor": 5
}
