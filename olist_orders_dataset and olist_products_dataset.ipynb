{
 "cells": [
  {
   "cell_type": "markdown",
   "id": "94d8f225",
   "metadata": {},
   "source": [
    "## olist_orders_dataset"
   ]
  },
  {
   "cell_type": "code",
   "execution_count": 86,
   "id": "490f27f0",
   "metadata": {},
   "outputs": [],
   "source": [
    "# Import Libraries\n",
    "import pandas as pd\n",
    "import numpy as np\n",
    "import sqlalchemy as db \n",
    "import matplotlib.pyplot as plt\n",
    "import seaborn as sns"
   ]
  },
  {
   "cell_type": "code",
   "execution_count": 87,
   "id": "cce26bed",
   "metadata": {},
   "outputs": [],
   "source": [
    "# create a dataframe from csv file\n",
    "orders = pd.read_csv('C:\\\\Users\\\\Abhirami\\\\Desktop\\\\JDE-Final Project\\\\olist_orders_dataset.csv')"
   ]
  },
  {
   "cell_type": "code",
   "execution_count": 88,
   "id": "989b818c",
   "metadata": {},
   "outputs": [
    {
     "data": {
      "text/html": [
       "<div>\n",
       "<style scoped>\n",
       "    .dataframe tbody tr th:only-of-type {\n",
       "        vertical-align: middle;\n",
       "    }\n",
       "\n",
       "    .dataframe tbody tr th {\n",
       "        vertical-align: top;\n",
       "    }\n",
       "\n",
       "    .dataframe thead th {\n",
       "        text-align: right;\n",
       "    }\n",
       "</style>\n",
       "<table border=\"1\" class=\"dataframe\">\n",
       "  <thead>\n",
       "    <tr style=\"text-align: right;\">\n",
       "      <th></th>\n",
       "      <th>order_id</th>\n",
       "      <th>customer_id</th>\n",
       "      <th>order_status</th>\n",
       "      <th>order_purchase_timestamp</th>\n",
       "      <th>order_approved_at</th>\n",
       "      <th>order_delivered_carrier_date</th>\n",
       "      <th>order_delivered_customer_date</th>\n",
       "      <th>order_estimated_delivery_date</th>\n",
       "    </tr>\n",
       "  </thead>\n",
       "  <tbody>\n",
       "    <tr>\n",
       "      <th>0</th>\n",
       "      <td>e481f51cbdc54678b7cc49136f2d6af7</td>\n",
       "      <td>9ef432eb6251297304e76186b10a928d</td>\n",
       "      <td>delivered</td>\n",
       "      <td>2017-10-02 10:56:33</td>\n",
       "      <td>2017-10-02 11:07:15</td>\n",
       "      <td>2017-10-04 19:55:00</td>\n",
       "      <td>2017-10-10 21:25:13</td>\n",
       "      <td>2017-10-18 00:00:00</td>\n",
       "    </tr>\n",
       "    <tr>\n",
       "      <th>1</th>\n",
       "      <td>53cdb2fc8bc7dce0b6741e2150273451</td>\n",
       "      <td>b0830fb4747a6c6d20dea0b8c802d7ef</td>\n",
       "      <td>delivered</td>\n",
       "      <td>2018-07-24 20:41:37</td>\n",
       "      <td>2018-07-26 03:24:27</td>\n",
       "      <td>2018-07-26 14:31:00</td>\n",
       "      <td>2018-08-07 15:27:45</td>\n",
       "      <td>2018-08-13 00:00:00</td>\n",
       "    </tr>\n",
       "    <tr>\n",
       "      <th>2</th>\n",
       "      <td>47770eb9100c2d0c44946d9cf07ec65d</td>\n",
       "      <td>41ce2a54c0b03bf3443c3d931a367089</td>\n",
       "      <td>delivered</td>\n",
       "      <td>2018-08-08 08:38:49</td>\n",
       "      <td>2018-08-08 08:55:23</td>\n",
       "      <td>2018-08-08 13:50:00</td>\n",
       "      <td>2018-08-17 18:06:29</td>\n",
       "      <td>2018-09-04 00:00:00</td>\n",
       "    </tr>\n",
       "    <tr>\n",
       "      <th>3</th>\n",
       "      <td>949d5b44dbf5de918fe9c16f97b45f8a</td>\n",
       "      <td>f88197465ea7920adcdbec7375364d82</td>\n",
       "      <td>delivered</td>\n",
       "      <td>2017-11-18 19:28:06</td>\n",
       "      <td>2017-11-18 19:45:59</td>\n",
       "      <td>2017-11-22 13:39:59</td>\n",
       "      <td>2017-12-02 00:28:42</td>\n",
       "      <td>2017-12-15 00:00:00</td>\n",
       "    </tr>\n",
       "    <tr>\n",
       "      <th>4</th>\n",
       "      <td>ad21c59c0840e6cb83a9ceb5573f8159</td>\n",
       "      <td>8ab97904e6daea8866dbdbc4fb7aad2c</td>\n",
       "      <td>delivered</td>\n",
       "      <td>2018-02-13 21:18:39</td>\n",
       "      <td>2018-02-13 22:20:29</td>\n",
       "      <td>2018-02-14 19:46:34</td>\n",
       "      <td>2018-02-16 18:17:02</td>\n",
       "      <td>2018-02-26 00:00:00</td>\n",
       "    </tr>\n",
       "  </tbody>\n",
       "</table>\n",
       "</div>"
      ],
      "text/plain": [
       "                           order_id                       customer_id  \\\n",
       "0  e481f51cbdc54678b7cc49136f2d6af7  9ef432eb6251297304e76186b10a928d   \n",
       "1  53cdb2fc8bc7dce0b6741e2150273451  b0830fb4747a6c6d20dea0b8c802d7ef   \n",
       "2  47770eb9100c2d0c44946d9cf07ec65d  41ce2a54c0b03bf3443c3d931a367089   \n",
       "3  949d5b44dbf5de918fe9c16f97b45f8a  f88197465ea7920adcdbec7375364d82   \n",
       "4  ad21c59c0840e6cb83a9ceb5573f8159  8ab97904e6daea8866dbdbc4fb7aad2c   \n",
       "\n",
       "  order_status order_purchase_timestamp    order_approved_at  \\\n",
       "0    delivered      2017-10-02 10:56:33  2017-10-02 11:07:15   \n",
       "1    delivered      2018-07-24 20:41:37  2018-07-26 03:24:27   \n",
       "2    delivered      2018-08-08 08:38:49  2018-08-08 08:55:23   \n",
       "3    delivered      2017-11-18 19:28:06  2017-11-18 19:45:59   \n",
       "4    delivered      2018-02-13 21:18:39  2018-02-13 22:20:29   \n",
       "\n",
       "  order_delivered_carrier_date order_delivered_customer_date  \\\n",
       "0          2017-10-04 19:55:00           2017-10-10 21:25:13   \n",
       "1          2018-07-26 14:31:00           2018-08-07 15:27:45   \n",
       "2          2018-08-08 13:50:00           2018-08-17 18:06:29   \n",
       "3          2017-11-22 13:39:59           2017-12-02 00:28:42   \n",
       "4          2018-02-14 19:46:34           2018-02-16 18:17:02   \n",
       "\n",
       "  order_estimated_delivery_date  \n",
       "0           2017-10-18 00:00:00  \n",
       "1           2018-08-13 00:00:00  \n",
       "2           2018-09-04 00:00:00  \n",
       "3           2017-12-15 00:00:00  \n",
       "4           2018-02-26 00:00:00  "
      ]
     },
     "execution_count": 88,
     "metadata": {},
     "output_type": "execute_result"
    }
   ],
   "source": [
    "#Display the first few rows of the datase\n",
    "orders.head(5)"
   ]
  },
  {
   "cell_type": "code",
   "execution_count": 89,
   "id": "e2d33402",
   "metadata": {},
   "outputs": [
    {
     "name": "stdout",
     "output_type": "stream",
     "text": [
      "<class 'pandas.core.frame.DataFrame'>\n",
      "RangeIndex: 99441 entries, 0 to 99440\n",
      "Data columns (total 8 columns):\n",
      " #   Column                         Non-Null Count  Dtype \n",
      "---  ------                         --------------  ----- \n",
      " 0   order_id                       99441 non-null  object\n",
      " 1   customer_id                    99441 non-null  object\n",
      " 2   order_status                   99441 non-null  object\n",
      " 3   order_purchase_timestamp       99441 non-null  object\n",
      " 4   order_approved_at              99281 non-null  object\n",
      " 5   order_delivered_carrier_date   97658 non-null  object\n",
      " 6   order_delivered_customer_date  96476 non-null  object\n",
      " 7   order_estimated_delivery_date  99441 non-null  object\n",
      "dtypes: object(8)\n",
      "memory usage: 6.1+ MB\n"
     ]
    }
   ],
   "source": [
    "#Information about the dataset\n",
    "orders.info()"
   ]
  },
  {
   "cell_type": "code",
   "execution_count": 92,
   "id": "72b9a0b7",
   "metadata": {},
   "outputs": [
    {
     "data": {
      "text/plain": [
       "order_id                         0.00\n",
       "customer_id                      0.00\n",
       "order_status                     0.00\n",
       "order_purchase_timestamp         0.00\n",
       "order_approved_at                0.16\n",
       "order_delivered_carrier_date     1.79\n",
       "order_delivered_customer_date    2.98\n",
       "order_estimated_delivery_date    0.00\n",
       "dtype: float64"
      ]
     },
     "execution_count": 92,
     "metadata": {},
     "output_type": "execute_result"
    }
   ],
   "source": [
    "# Checking percentage of missing value in each data\n",
    "round((orders.isnull().sum()/len(orders)*100),2)"
   ]
  },
  {
   "cell_type": "code",
   "execution_count": 93,
   "id": "7aeeed04",
   "metadata": {},
   "outputs": [
    {
     "data": {
      "text/plain": [
       "order_id                            0\n",
       "customer_id                         0\n",
       "order_status                        0\n",
       "order_purchase_timestamp            0\n",
       "order_approved_at                 160\n",
       "order_delivered_carrier_date     1783\n",
       "order_delivered_customer_date    2965\n",
       "order_estimated_delivery_date       0\n",
       "dtype: int64"
      ]
     },
     "execution_count": 93,
     "metadata": {},
     "output_type": "execute_result"
    }
   ],
   "source": [
    "orders.isnull().sum()"
   ]
  },
  {
   "cell_type": "code",
   "execution_count": 69,
   "id": "ea4d245b",
   "metadata": {},
   "outputs": [
    {
     "data": {
      "text/plain": [
       "order_status\n",
       "delivered       96478\n",
       "shipped          1107\n",
       "canceled          625\n",
       "unavailable       609\n",
       "invoiced          314\n",
       "processing        301\n",
       "created             5\n",
       "approved            2\n",
       "Name: count, dtype: int64"
      ]
     },
     "execution_count": 69,
     "metadata": {},
     "output_type": "execute_result"
    }
   ],
   "source": [
    "orders[['order_status']].value_counts()"
   ]
  },
  {
   "cell_type": "code",
   "execution_count": 70,
   "id": "eb02a46a",
   "metadata": {},
   "outputs": [
    {
     "name": "stdout",
     "output_type": "stream",
     "text": [
      "Number of orders marked as delivered: 96478\n"
     ]
    }
   ],
   "source": [
    "# Count the number of order_id values where order_status is \"delivered\"\n",
    "num_delivered_orders = orders[orders['order_status'] == 'delivered']['order_id'].nunique()\n",
    "\n",
    "print(f\"Number of orders marked as delivered: {num_delivered_orders}\")"
   ]
  },
  {
   "cell_type": "code",
   "execution_count": 42,
   "id": "00042d46",
   "metadata": {},
   "outputs": [
    {
     "name": "stdout",
     "output_type": "stream",
     "text": [
      "Number of order IDs with order_status as delivered and a valid order_delivered_customer_date: 96470\n",
      "Number of order IDs with order_status as not delivered: 2971\n"
     ]
    }
   ],
   "source": [
    "# Filter the DataFrame for delivered orders with a valid order_delivered_customer_date\n",
    "delivered_with_timestamp = orders[(orders['order_status'] == 'delivered') & orders['order_delivered_customer_date'].notna()]\n",
    "\n",
    "# Count the number of order IDs for delivered orders with a valid order_delivered_customer_date\n",
    "delivered_count = delivered_with_timestamp['order_id'].nunique()\n",
    "\n",
    "# Count the number of order IDs for not delivered orders (considering all orders)\n",
    "total_orders = orders['order_id'].nunique()\n",
    "not_delivered_count = total_orders - delivered_count\n",
    "\n",
    "print(f\"Number of order IDs with order_status as delivered and a valid order_delivered_customer_date: {delivered_count}\")\n",
    "print(f\"Number of order IDs with order_status as not delivered: {not_delivered_count}\")"
   ]
  },
  {
   "cell_type": "code",
   "execution_count": 43,
   "id": "abd902cd",
   "metadata": {},
   "outputs": [
    {
     "name": "stdout",
     "output_type": "stream",
     "text": [
      "Number of order IDs with order_status as not delivered and a valid order_delivered_customer_date: 6\n",
      "Number of order IDs with order_status as delivered: 99435\n",
      "Data for not delivered orders with a valid order_delivered_customer_date:\n",
      "                               order_id order_status  \\\n",
      "2921   1950d777989f6a877539f53795b4c3c3     canceled   \n",
      "8791   dabf2b0e35b423f94618bf965fcb7514     canceled   \n",
      "58266  770d331c84e5b214bd9dc70a10b829d0     canceled   \n",
      "59332  8beb59392e21af5eb9547ae1a9938d06     canceled   \n",
      "92636  65d1e226dfaeb8cdc42f665422522d14     canceled   \n",
      "94399  2c45c33d2f9cb8ff8b1c86cc28c11c30     canceled   \n",
      "\n",
      "      order_delivered_customer_date  \n",
      "2921            2018-03-21 22:03:51  \n",
      "8791            2016-10-16 14:36:59  \n",
      "58266           2016-10-14 15:07:11  \n",
      "59332           2016-10-19 18:47:43  \n",
      "92636           2016-11-08 10:58:34  \n",
      "94399           2016-11-09 14:53:50  \n"
     ]
    }
   ],
   "source": [
    "# Filter the DataFrame for orders with a date in the order_delivered_customer_date column and order_status as not delivered\n",
    "not_delivered_with_timestamp = orders[(orders['order_status'] != 'delivered') & orders['order_delivered_customer_date'].notna()]\n",
    "\n",
    "# Count the number of order IDs for not delivered orders with a valid order_delivered_customer_date\n",
    "not_delivered_count = not_delivered_with_timestamp['order_id'].nunique()\n",
    "\n",
    "# Count the number of order IDs for delivered orders (considering all orders)\n",
    "total_orders = orders['order_id'].nunique()\n",
    "delivered_count = total_orders - not_delivered_count\n",
    "\n",
    "# Retrieve the data for not delivered orders with a valid order_delivered_customer_date\n",
    "not_delivered_data = not_delivered_with_timestamp[['order_id', 'order_status', 'order_delivered_customer_date']]\n",
    "\n",
    "print(f\"Number of order IDs with order_status as not delivered and a valid order_delivered_customer_date: {not_delivered_count}\")\n",
    "print(f\"Number of order IDs with order_status as delivered: {delivered_count}\")\n",
    "print(\"Data for not delivered orders with a valid order_delivered_customer_date:\")\n",
    "print(not_delivered_data)"
   ]
  },
  {
   "cell_type": "code",
   "execution_count": 44,
   "id": "99e2c54e",
   "metadata": {},
   "outputs": [
    {
     "name": "stdout",
     "output_type": "stream",
     "text": [
      "Order IDs for orders with order_status as 'delivered' but don't have order_delivered_customer_date:\n",
      "2d1e2d5bf4dc7227b3bfebb81328c15f\n",
      "f5dd62b788049ad9fc0526e3ad11a097\n",
      "2ebdfc4f15f23b91474edf87475f108e\n",
      "e69f75a717d64fc5ecdfae42b2e8e086\n",
      "0d3268bad9b086af767785e3f0fc0133\n",
      "2d858f451373b04fb5c984a1cc2defaf\n",
      "ab7c89dc1bf4a1ead9d6ec1ec8968a84\n",
      "20edc82cf5400ce95e1afacc25798b31\n",
      "Number of records: 8\n"
     ]
    }
   ],
   "source": [
    "# Filter the DataFrame for orders with order_status as \"delivered\" and order_delivered_customer_date as null\n",
    "delivered_without_customer_date = orders[(orders['order_status'] == 'delivered') & orders['order_delivered_customer_date'].isnull()]\n",
    "\n",
    "# Print the order_id values for orders with order_status as \"delivered\" but don't have order_delivered_customer_date\n",
    "order_ids_delivered_without_customer_date = delivered_without_customer_date['order_id'].unique()\n",
    "\n",
    "print(\"Order IDs for orders with order_status as 'delivered' but don't have order_delivered_customer_date:\")\n",
    "for order_id in order_ids_delivered_without_customer_date:\n",
    "    print(order_id)\n",
    "\n",
    "# Count the number of records\n",
    "num_records = delivered_without_customer_date.shape[0]\n",
    "print(f\"Number of records: {num_records}\")"
   ]
  },
  {
   "cell_type": "code",
   "execution_count": 94,
   "id": "28ca743e",
   "metadata": {},
   "outputs": [
    {
     "data": {
      "text/plain": [
       "(99441, 8)"
      ]
     },
     "execution_count": 94,
     "metadata": {},
     "output_type": "execute_result"
    }
   ],
   "source": [
    "orders.shape"
   ]
  },
  {
   "cell_type": "code",
   "execution_count": 83,
   "id": "8fd80760",
   "metadata": {
    "scrolled": true
   },
   "outputs": [],
   "source": [
    "# import missingno as msno \n",
    "# import matplotlib.pyplot as plt\n",
    "# # Visualize missingness \n",
    "# msno.matrix(orders) \n",
    "# plt.show()"
   ]
  },
  {
   "cell_type": "code",
   "execution_count": 95,
   "id": "8c88b8b7",
   "metadata": {},
   "outputs": [
    {
     "name": "stdout",
     "output_type": "stream",
     "text": [
      "0\n"
     ]
    }
   ],
   "source": [
    "#Identify duplicates\n",
    "print(orders.duplicated().sum())"
   ]
  },
  {
   "cell_type": "code",
   "execution_count": 96,
   "id": "6a9a3b99",
   "metadata": {},
   "outputs": [],
   "source": [
    "# function pd.to_datetime to convert type date columns from object to datetime64\n",
    "orders['order_purchase_timestamp']=pd.to_datetime(orders['order_purchase_timestamp'])\n",
    "orders['order_approved_at']=pd.to_datetime(orders['order_approved_at'])\n",
    "orders['order_delivered_carrier_date']=pd.to_datetime(orders['order_delivered_carrier_date'])\n",
    "orders['order_delivered_customer_date']=pd.to_datetime(orders['order_delivered_customer_date'])\n",
    "orders['order_estimated_delivery_date']=pd.to_datetime(orders['order_estimated_delivery_date'])"
   ]
  },
  {
   "cell_type": "code",
   "execution_count": 97,
   "id": "2b43292a",
   "metadata": {},
   "outputs": [
    {
     "data": {
      "text/plain": [
       "Timedelta('-4 days +18:22:58.055807')"
      ]
     },
     "execution_count": 97,
     "metadata": {},
     "output_type": "execute_result"
    }
   ],
   "source": [
    "# find the average of the time between purchase_timestamp ( not any null) with delivered_carrier.\n",
    "orders_data_1=orders[orders['order_delivered_carrier_date'].notnull()]\n",
    "\n",
    "miss_carrier=(orders_data_1['order_purchase_timestamp']-orders_data_1['order_delivered_carrier_date']).mean()\n",
    "miss_carrier #we name it: miss_carrier"
   ]
  },
  {
   "cell_type": "code",
   "execution_count": 98,
   "id": "5d11ff2c",
   "metadata": {},
   "outputs": [
    {
     "data": {
      "text/plain": [
       "6       2017-04-14 17:59:09.944193\n",
       "103     2018-08-06 23:21:43.944193\n",
       "128     2017-09-06 19:59:04.944193\n",
       "266     2017-11-19 20:46:29.944193\n",
       "324     2016-10-09 04:21:14.944193\n",
       "                   ...            \n",
       "99283   2018-09-03 21:50:45.944193\n",
       "99313   2018-01-09 04:44:25.944193\n",
       "99347   2018-09-10 00:22:48.944193\n",
       "99348   2017-08-26 22:05:05.944193\n",
       "99415   2017-10-13 16:27:04.944193\n",
       "Name: order_purchase_timestamp, Length: 1783, dtype: datetime64[ns]"
      ]
     },
     "execution_count": 98,
     "metadata": {},
     "output_type": "execute_result"
    }
   ],
   "source": [
    "# caculate missing time by minus of order_purchase_timestamp and miss_carrier, which caculated above\n",
    "added_date=orders[orders['order_delivered_carrier_date'].isnull()]['order_purchase_timestamp'] - miss_carrier\n",
    "added_date"
   ]
  },
  {
   "cell_type": "code",
   "execution_count": 99,
   "id": "d0c8086a",
   "metadata": {},
   "outputs": [
    {
     "data": {
      "text/plain": [
       "order_id                            0\n",
       "customer_id                         0\n",
       "order_status                        0\n",
       "order_purchase_timestamp            0\n",
       "order_approved_at                 160\n",
       "order_delivered_carrier_date        0\n",
       "order_delivered_customer_date    2965\n",
       "order_estimated_delivery_date       0\n",
       "dtype: int64"
      ]
     },
     "execution_count": 99,
     "metadata": {},
     "output_type": "execute_result"
    }
   ],
   "source": [
    "#replace missing values by the new ones.\n",
    "orders['order_delivered_carrier_date'].fillna(added_date, inplace=True)\n",
    "# Check for any remaining missing values in the DataFrame\n",
    "missing_values = orders.isnull().sum()\n",
    "missing_values"
   ]
  },
  {
   "cell_type": "code",
   "execution_count": 100,
   "id": "a2a7ce37",
   "metadata": {},
   "outputs": [
    {
     "data": {
      "text/plain": [
       "Timedelta('-13 days +10:36:03.848706919')"
      ]
     },
     "execution_count": 100,
     "metadata": {},
     "output_type": "execute_result"
    }
   ],
   "source": [
    "# find the average of the time between purchase_timestamp ( not any null) with delivered_customer_date.\n",
    "orders_data_2=orders[orders['order_delivered_carrier_date'].notnull()]\n",
    "\n",
    "mean_deliver=(orders_data_1['order_purchase_timestamp']-orders_data_1['order_delivered_customer_date']).mean()\n",
    "mean_deliver #we name it: mean_deliver"
   ]
  },
  {
   "cell_type": "code",
   "execution_count": 101,
   "id": "eeb9862a",
   "metadata": {},
   "outputs": [
    {
     "data": {
      "text/plain": [
       "6       2017-04-24 01:46:04.151293081\n",
       "44      2018-06-17 06:08:44.151293081\n",
       "103     2018-08-16 07:08:38.151293081\n",
       "128     2017-09-16 03:45:59.151293081\n",
       "154     2018-01-23 00:57:03.151293081\n",
       "                     ...             \n",
       "99283   2018-09-13 05:37:40.151293081\n",
       "99313   2018-01-18 12:31:20.151293081\n",
       "99347   2018-09-19 08:09:43.151293081\n",
       "99348   2017-09-05 05:52:00.151293081\n",
       "99415   2017-10-23 00:13:59.151293081\n",
       "Name: order_purchase_timestamp, Length: 2965, dtype: datetime64[ns]"
      ]
     },
     "execution_count": 101,
     "metadata": {},
     "output_type": "execute_result"
    }
   ],
   "source": [
    "# caculate missing time by minus of order_purchase_timestamp and mean_deliver, which caculated above\n",
    "added_date=orders[orders['order_delivered_customer_date'].isnull()]['order_purchase_timestamp'] - mean_deliver\n",
    "added_date"
   ]
  },
  {
   "cell_type": "code",
   "execution_count": 102,
   "id": "6c637e55",
   "metadata": {},
   "outputs": [
    {
     "data": {
      "text/plain": [
       "order_id                           0\n",
       "customer_id                        0\n",
       "order_status                       0\n",
       "order_purchase_timestamp           0\n",
       "order_approved_at                160\n",
       "order_delivered_carrier_date       0\n",
       "order_delivered_customer_date      0\n",
       "order_estimated_delivery_date      0\n",
       "dtype: int64"
      ]
     },
     "execution_count": 102,
     "metadata": {},
     "output_type": "execute_result"
    }
   ],
   "source": [
    "# replace missing values by the new ones.\n",
    "orders['order_delivered_customer_date'].fillna(added_date, inplace=True)\n",
    "# Check for any remaining missing values in the DataFrame\n",
    "missing_values = orders.isnull().sum()\n",
    "missing_values"
   ]
  },
  {
   "cell_type": "code",
   "execution_count": null,
   "id": "cefa2df9",
   "metadata": {},
   "outputs": [],
   "source": []
  },
  {
   "cell_type": "code",
   "execution_count": 104,
   "id": "018b7aa1",
   "metadata": {},
   "outputs": [
    {
     "name": "stdout",
     "output_type": "stream",
     "text": [
      "Number of order_id for order_status as 'delivered', no data for order_approved_at, and order_delivered_customer_date is present: 14\n"
     ]
    }
   ],
   "source": [
    "# Filter the DataFrame where order_status is \"delivered\", order_approved_at is missing, and order_delivered_customer_date is present\n",
    "filtered_df = orders[(orders['order_status'] == 'delivered') & (orders['order_approved_at'].isnull()) & (~orders['order_delivered_customer_date'].isnull())]\n",
    "\n",
    "# Get the number of order_id for the filtered DataFrame\n",
    "num_orders = filtered_df['order_id'].nunique()\n",
    "\n",
    "print(\"Number of order_id for order_status as 'delivered', no data for order_approved_at, and order_delivered_customer_date is present:\", num_orders)"
   ]
  },
  {
   "cell_type": "code",
   "execution_count": 105,
   "id": "3ca47d56",
   "metadata": {},
   "outputs": [],
   "source": [
    "#because the number of missing is too small compared to the amount of rows. So drop it\n",
    "orders.dropna(inplace=True)"
   ]
  },
  {
   "cell_type": "code",
   "execution_count": 106,
   "id": "624f5487",
   "metadata": {},
   "outputs": [
    {
     "data": {
      "text/plain": [
       "order_id                         0\n",
       "customer_id                      0\n",
       "order_status                     0\n",
       "order_purchase_timestamp         0\n",
       "order_approved_at                0\n",
       "order_delivered_carrier_date     0\n",
       "order_delivered_customer_date    0\n",
       "order_estimated_delivery_date    0\n",
       "dtype: int64"
      ]
     },
     "execution_count": 106,
     "metadata": {},
     "output_type": "execute_result"
    }
   ],
   "source": [
    "#There are no-missing values in any column of DataFrame orders_data\n",
    "orders.isnull().sum()"
   ]
  },
  {
   "cell_type": "code",
   "execution_count": 107,
   "id": "7c008f58",
   "metadata": {},
   "outputs": [
    {
     "name": "stdout",
     "output_type": "stream",
     "text": [
      "order_id                                 object\n",
      "customer_id                              object\n",
      "order_status                             object\n",
      "order_purchase_timestamp         datetime64[ns]\n",
      "order_approved_at                datetime64[ns]\n",
      "order_delivered_carrier_date     datetime64[ns]\n",
      "order_delivered_customer_date    datetime64[ns]\n",
      "order_estimated_delivery_date    datetime64[ns]\n",
      "dtype: object\n"
     ]
    }
   ],
   "source": [
    "print(orders.dtypes)"
   ]
  },
  {
   "cell_type": "code",
   "execution_count": 27,
   "id": "036cc976",
   "metadata": {},
   "outputs": [],
   "source": [
    "# # Convert datetime columns to datetime data type\n",
    "# datetime_columns = ['order_purchase_timestamp', 'order_approved_at', 'order_delivered_carrier_date', 'order_delivered_customer_date', 'order_estimated_delivery_date']\n",
    "# orders[datetime_columns] = orders[datetime_columns].apply(pd.to_datetime)\n",
    "\n",
    "# # Verify the changes\n",
    "# print(orders.dtypes)"
   ]
  },
  {
   "cell_type": "code",
   "execution_count": 84,
   "id": "80e02ef3",
   "metadata": {},
   "outputs": [
    {
     "name": "stdout",
     "output_type": "stream",
     "text": [
      "                               order_id                       customer_id  \\\n",
      "0      e481f51cbdc54678b7cc49136f2d6af7  9ef432eb6251297304e76186b10a928d   \n",
      "1      53cdb2fc8bc7dce0b6741e2150273451  b0830fb4747a6c6d20dea0b8c802d7ef   \n",
      "2      47770eb9100c2d0c44946d9cf07ec65d  41ce2a54c0b03bf3443c3d931a367089   \n",
      "3      949d5b44dbf5de918fe9c16f97b45f8a  f88197465ea7920adcdbec7375364d82   \n",
      "4      ad21c59c0840e6cb83a9ceb5573f8159  8ab97904e6daea8866dbdbc4fb7aad2c   \n",
      "...                                 ...                               ...   \n",
      "99436  9c5dedf39a927c1b2549525ed64a053c  39bd1228ee8140590ac3aca26f2dfe00   \n",
      "99437  63943bddc261676b46f01ca7ac2f7bd8  1fca14ff2861355f6e5f14306ff977a7   \n",
      "99438  83c1379a015df1e13d02aae0204711ab  1aa71eb042121263aafbe80c1b562c9c   \n",
      "99439  11c177c8e97725db2631073c19f07b62  b331b74b18dc79bcdf6532d51e1637c1   \n",
      "99440  66dea50a8b16d9b4dee7af250b4be1a5  edb027a75a1449115f6b43211ae02a24   \n",
      "\n",
      "      order_status order_purchase_timestamp order_approved_at  \\\n",
      "0        delivered               2017-10-02        2017-10-02   \n",
      "1        delivered               2018-07-24        2018-07-26   \n",
      "2        delivered               2018-08-08        2018-08-08   \n",
      "3        delivered               2017-11-18        2017-11-18   \n",
      "4        delivered               2018-02-13        2018-02-13   \n",
      "...            ...                      ...               ...   \n",
      "99436    delivered               2017-03-09        2017-03-09   \n",
      "99437    delivered               2018-02-06        2018-02-06   \n",
      "99438    delivered               2017-08-27        2017-08-27   \n",
      "99439    delivered               2018-01-08        2018-01-08   \n",
      "99440    delivered               2018-03-08        2018-03-09   \n",
      "\n",
      "      order_delivered_carrier_date order_delivered_customer_date  \\\n",
      "0                       2017-10-04                    2017-10-10   \n",
      "1                       2018-07-26                    2018-08-07   \n",
      "2                       2018-08-08                    2018-08-17   \n",
      "3                       2017-11-22                    2017-12-02   \n",
      "4                       2018-02-14                    2018-02-16   \n",
      "...                            ...                           ...   \n",
      "99436                   2017-03-10                    2017-03-17   \n",
      "99437                   2018-02-07                    2018-02-28   \n",
      "99438                   2017-08-28                    2017-09-21   \n",
      "99439                   2018-01-12                    2018-01-25   \n",
      "99440                   2018-03-09                    2018-03-16   \n",
      "\n",
      "      order_estimated_delivery_date  \n",
      "0                        2017-10-18  \n",
      "1                        2018-08-13  \n",
      "2                        2018-09-04  \n",
      "3                        2017-12-15  \n",
      "4                        2018-02-26  \n",
      "...                             ...  \n",
      "99436                    2017-03-28  \n",
      "99437                    2018-03-02  \n",
      "99438                    2017-09-27  \n",
      "99439                    2018-02-15  \n",
      "99440                    2018-04-03  \n",
      "\n",
      "[99281 rows x 8 columns]\n"
     ]
    }
   ],
   "source": [
    "# Convert datetime columns to date format without time\n",
    "date_columns = ['order_purchase_timestamp', 'order_approved_at', 'order_delivered_carrier_date', 'order_delivered_customer_date', 'order_estimated_delivery_date']\n",
    "for col in date_columns:\n",
    "    orders[col] = orders[col].dt.strftime('%Y-%m-%d')\n",
    "\n",
    "# Verify the changes\n",
    "print(orders)"
   ]
  },
  {
   "cell_type": "code",
   "execution_count": 85,
   "id": "8cb8a8f2",
   "metadata": {},
   "outputs": [
    {
     "name": "stdout",
     "output_type": "stream",
     "text": [
      "                           order_id                       customer_id  \\\n",
      "0  e481f51cbdc54678b7cc49136f2d6af7  9ef432eb6251297304e76186b10a928d   \n",
      "1  53cdb2fc8bc7dce0b6741e2150273451  b0830fb4747a6c6d20dea0b8c802d7ef   \n",
      "2  47770eb9100c2d0c44946d9cf07ec65d  41ce2a54c0b03bf3443c3d931a367089   \n",
      "3  949d5b44dbf5de918fe9c16f97b45f8a  f88197465ea7920adcdbec7375364d82   \n",
      "4  ad21c59c0840e6cb83a9ceb5573f8159  8ab97904e6daea8866dbdbc4fb7aad2c   \n",
      "\n",
      "  order_status order_purchase_timestamp order_approved_at  \\\n",
      "0    delivered               2017-10-02        2017-10-02   \n",
      "1    delivered               2018-07-24        2018-07-26   \n",
      "2    delivered               2018-08-08        2018-08-08   \n",
      "3    delivered               2017-11-18        2017-11-18   \n",
      "4    delivered               2018-02-13        2018-02-13   \n",
      "\n",
      "  order_delivered_carrier_date order_delivered_customer_date  \\\n",
      "0                   2017-10-04                    2017-10-10   \n",
      "1                   2018-07-26                    2018-08-07   \n",
      "2                   2018-08-08                    2018-08-17   \n",
      "3                   2017-11-22                    2017-12-02   \n",
      "4                   2018-02-14                    2018-02-16   \n",
      "\n",
      "  order_estimated_delivery_date order_purchase_month  order_purchase_year  \\\n",
      "0                    2017-10-18              October                 2017   \n",
      "1                    2018-08-13                 July                 2018   \n",
      "2                    2018-09-04               August                 2018   \n",
      "3                    2017-12-15             November                 2017   \n",
      "4                    2018-02-26             February                 2018   \n",
      "\n",
      "  order_purchase_day  \n",
      "0             Monday  \n",
      "1            Tuesday  \n",
      "2          Wednesday  \n",
      "3           Saturday  \n",
      "4            Tuesday  \n"
     ]
    }
   ],
   "source": [
    "# Extract date, month, and year\n",
    "orders['order_purchase_timestamp'] = pd.to_datetime(orders['order_purchase_timestamp'])\n",
    "#orders['order_purchase_date'] = orders['order_purchase_timestamp'].dt.date\n",
    "orders['order_purchase_month'] = orders['order_purchase_timestamp'].dt.month_name()\n",
    "orders['order_purchase_year'] = orders['order_purchase_timestamp'].dt.year\n",
    "orders['order_purchase_day'] = orders['order_purchase_timestamp'].dt.day_name()\n",
    "print(orders.head())"
   ]
  },
  {
   "cell_type": "markdown",
   "id": "a104762c",
   "metadata": {},
   "source": [
    "## olist_products_dataset"
   ]
  },
  {
   "cell_type": "code",
   "execution_count": 120,
   "id": "ff7d51e7",
   "metadata": {},
   "outputs": [],
   "source": [
    "# create a dataframe from csv file\n",
    "\n",
    "products = pd.read_csv('C:\\\\Users\\\\Abhirami\\\\Desktop\\\\JDE-Final Project\\\\olist_products_dataset.csv')"
   ]
  },
  {
   "cell_type": "code",
   "execution_count": 109,
   "id": "dcf6a46a",
   "metadata": {},
   "outputs": [
    {
     "name": "stdout",
     "output_type": "stream",
     "text": [
      "                         product_id  product_category_name  \\\n",
      "0  1e9e8ef04dbcff4541ed26657ea517e5             perfumaria   \n",
      "1  3aa071139cb16b67ca9e5dea641aaa2f                  artes   \n",
      "2  96bd76ec8810374ed1b65e291975717f          esporte_lazer   \n",
      "3  cef67bcfe19066a932b7673e239eb23d                  bebes   \n",
      "4  9dc1a7de274444849c219cff195d0b71  utilidades_domesticas   \n",
      "\n",
      "   product_name_lenght  product_description_lenght  product_photos_qty  \\\n",
      "0                 40.0                       287.0                 1.0   \n",
      "1                 44.0                       276.0                 1.0   \n",
      "2                 46.0                       250.0                 1.0   \n",
      "3                 27.0                       261.0                 1.0   \n",
      "4                 37.0                       402.0                 4.0   \n",
      "\n",
      "   product_weight_g  product_length_cm  product_height_cm  product_width_cm  \n",
      "0             225.0               16.0               10.0              14.0  \n",
      "1            1000.0               30.0               18.0              20.0  \n",
      "2             154.0               18.0                9.0              15.0  \n",
      "3             371.0               26.0                4.0              26.0  \n",
      "4             625.0               20.0               17.0              13.0  \n"
     ]
    }
   ],
   "source": [
    "print(products.head())"
   ]
  },
  {
   "cell_type": "code",
   "execution_count": 110,
   "id": "872c2b80",
   "metadata": {},
   "outputs": [
    {
     "name": "stdout",
     "output_type": "stream",
     "text": [
      "<class 'pandas.core.frame.DataFrame'>\n",
      "RangeIndex: 32951 entries, 0 to 32950\n",
      "Data columns (total 9 columns):\n",
      " #   Column                      Non-Null Count  Dtype  \n",
      "---  ------                      --------------  -----  \n",
      " 0   product_id                  32951 non-null  object \n",
      " 1   product_category_name       32341 non-null  object \n",
      " 2   product_name_lenght         32341 non-null  float64\n",
      " 3   product_description_lenght  32341 non-null  float64\n",
      " 4   product_photos_qty          32341 non-null  float64\n",
      " 5   product_weight_g            32949 non-null  float64\n",
      " 6   product_length_cm           32949 non-null  float64\n",
      " 7   product_height_cm           32949 non-null  float64\n",
      " 8   product_width_cm            32949 non-null  float64\n",
      "dtypes: float64(7), object(2)\n",
      "memory usage: 2.3+ MB\n"
     ]
    }
   ],
   "source": [
    "products.info()"
   ]
  },
  {
   "cell_type": "code",
   "execution_count": 111,
   "id": "53036b0a",
   "metadata": {},
   "outputs": [
    {
     "data": {
      "text/plain": [
       "product_id                    0.00\n",
       "product_category_name         1.85\n",
       "product_name_lenght           1.85\n",
       "product_description_lenght    1.85\n",
       "product_photos_qty            1.85\n",
       "product_weight_g              0.01\n",
       "product_length_cm             0.01\n",
       "product_height_cm             0.01\n",
       "product_width_cm              0.01\n",
       "dtype: float64"
      ]
     },
     "execution_count": 111,
     "metadata": {},
     "output_type": "execute_result"
    }
   ],
   "source": [
    "# Checking percentage of missing value in each data\n",
    "round((products.isnull().sum()/len(products)*100),2)"
   ]
  },
  {
   "cell_type": "code",
   "execution_count": 112,
   "id": "42124aee",
   "metadata": {},
   "outputs": [
    {
     "data": {
      "text/plain": [
       "product_id                      0\n",
       "product_category_name         610\n",
       "product_name_lenght           610\n",
       "product_description_lenght    610\n",
       "product_photos_qty            610\n",
       "product_weight_g                2\n",
       "product_length_cm               2\n",
       "product_height_cm               2\n",
       "product_width_cm                2\n",
       "dtype: int64"
      ]
     },
     "execution_count": 112,
     "metadata": {},
     "output_type": "execute_result"
    }
   ],
   "source": [
    "products.isnull().sum()"
   ]
  },
  {
   "cell_type": "code",
   "execution_count": 114,
   "id": "7f817e6f",
   "metadata": {},
   "outputs": [
    {
     "data": {
      "text/plain": [
       "(32951, 9)"
      ]
     },
     "execution_count": 114,
     "metadata": {},
     "output_type": "execute_result"
    }
   ],
   "source": [
    "products.shape"
   ]
  },
  {
   "cell_type": "code",
   "execution_count": 122,
   "id": "3d7019a5",
   "metadata": {},
   "outputs": [
    {
     "data": {
      "text/plain": [
       "32951"
      ]
     },
     "execution_count": 122,
     "metadata": {},
     "output_type": "execute_result"
    }
   ],
   "source": [
    "#Check for duplicates rows\n",
    "len(products.drop_duplicates())"
   ]
  },
  {
   "cell_type": "code",
   "execution_count": 125,
   "id": "6545c50d",
   "metadata": {},
   "outputs": [],
   "source": [
    "\n",
    "# Fill missing values in product_category_name column with \"uncategorized\" only where it's null\n",
    "products.loc[products['product_category_name'].isnull(), 'product_category_name'] = 'uncategorized'\n",
    "# List of columns to fill with \"NAN\"\n",
    "columns_to_fill = ['product_name_lenght', 'product_description_lenght', \n",
    "                   'product_photos_qty', 'product_weight_g', \n",
    "                   'product_length_cm', 'product_height_cm', \n",
    "                   'product_width_cm']\n",
    "\n",
    "# Fill missing values in specified columns with \"NAN\"\n",
    "products[columns_to_fill] = products[columns_to_fill].fillna(\"NaN\")"
   ]
  },
  {
   "cell_type": "code",
   "execution_count": 126,
   "id": "2160bcd4",
   "metadata": {},
   "outputs": [
    {
     "data": {
      "text/plain": [
       "product_id                    0\n",
       "product_category_name         0\n",
       "product_name_lenght           0\n",
       "product_description_lenght    0\n",
       "product_photos_qty            0\n",
       "product_weight_g              0\n",
       "product_length_cm             0\n",
       "product_height_cm             0\n",
       "product_width_cm              0\n",
       "dtype: int64"
      ]
     },
     "execution_count": 126,
     "metadata": {},
     "output_type": "execute_result"
    }
   ],
   "source": [
    "products.isnull().sum()"
   ]
  },
  {
   "cell_type": "code",
   "execution_count": 41,
   "id": "c11dd670",
   "metadata": {},
   "outputs": [],
   "source": [
    "# Remove rows with missing values\n",
    "#products.dropna(inplace=True)\n"
   ]
  },
  {
   "cell_type": "markdown",
   "id": "de596176",
   "metadata": {},
   "source": [
    "### Merge tables-products and product_category_name_translation"
   ]
  },
  {
   "cell_type": "code",
   "execution_count": 127,
   "id": "332b092a",
   "metadata": {},
   "outputs": [],
   "source": [
    "# create a dataframe from csv file\n",
    "\n",
    "products = pd.read_csv('C:\\\\Users\\\\Abhirami\\\\Desktop\\\\JDE-Final Project\\\\olist_products_dataset.csv')"
   ]
  },
  {
   "cell_type": "code",
   "execution_count": 128,
   "id": "3f9b0f81",
   "metadata": {},
   "outputs": [
    {
     "data": {
      "text/html": [
       "<div>\n",
       "<style scoped>\n",
       "    .dataframe tbody tr th:only-of-type {\n",
       "        vertical-align: middle;\n",
       "    }\n",
       "\n",
       "    .dataframe tbody tr th {\n",
       "        vertical-align: top;\n",
       "    }\n",
       "\n",
       "    .dataframe thead th {\n",
       "        text-align: right;\n",
       "    }\n",
       "</style>\n",
       "<table border=\"1\" class=\"dataframe\">\n",
       "  <thead>\n",
       "    <tr style=\"text-align: right;\">\n",
       "      <th></th>\n",
       "      <th>product_category_name</th>\n",
       "      <th>product_category_name_english</th>\n",
       "    </tr>\n",
       "  </thead>\n",
       "  <tbody>\n",
       "    <tr>\n",
       "      <th>0</th>\n",
       "      <td>beleza_saude</td>\n",
       "      <td>health_beauty</td>\n",
       "    </tr>\n",
       "    <tr>\n",
       "      <th>1</th>\n",
       "      <td>informatica_acessorios</td>\n",
       "      <td>computers_accessories</td>\n",
       "    </tr>\n",
       "    <tr>\n",
       "      <th>2</th>\n",
       "      <td>automotivo</td>\n",
       "      <td>auto</td>\n",
       "    </tr>\n",
       "    <tr>\n",
       "      <th>3</th>\n",
       "      <td>cama_mesa_banho</td>\n",
       "      <td>bed_bath_table</td>\n",
       "    </tr>\n",
       "    <tr>\n",
       "      <th>4</th>\n",
       "      <td>moveis_decoracao</td>\n",
       "      <td>furniture_decor</td>\n",
       "    </tr>\n",
       "  </tbody>\n",
       "</table>\n",
       "</div>"
      ],
      "text/plain": [
       "    product_category_name product_category_name_english\n",
       "0            beleza_saude                 health_beauty\n",
       "1  informatica_acessorios         computers_accessories\n",
       "2              automotivo                          auto\n",
       "3         cama_mesa_banho                bed_bath_table\n",
       "4        moveis_decoracao               furniture_decor"
      ]
     },
     "execution_count": 128,
     "metadata": {},
     "output_type": "execute_result"
    }
   ],
   "source": [
    "# create a dataframe from csv file\n",
    "product_category_name_translation = pd.read_csv('C:\\\\Users\\\\Abhirami\\\\Desktop\\\\JDE-Final Project\\\\product_category_name_translation.csv')\n",
    "product_category_name_translation.head()"
   ]
  },
  {
   "cell_type": "code",
   "execution_count": 87,
   "id": "0238f185",
   "metadata": {},
   "outputs": [
    {
     "name": "stdout",
     "output_type": "stream",
     "text": [
      "    product_category_name product_category_name_english\n",
      "0            beleza_saude                 health_beauty\n",
      "1  informatica_acessorios         computers_accessories\n",
      "2              automotivo                          auto\n",
      "3         cama_mesa_banho                bed_bath_table\n",
      "4        moveis_decoracao               furniture_decor\n"
     ]
    }
   ],
   "source": [
    "print(productnames_eng.head())"
   ]
  },
  {
   "cell_type": "code",
   "execution_count": 129,
   "id": "ca31263c",
   "metadata": {},
   "outputs": [
    {
     "data": {
      "text/plain": [
       "(71, 2)"
      ]
     },
     "execution_count": 129,
     "metadata": {},
     "output_type": "execute_result"
    }
   ],
   "source": [
    "product_category_name_translation.shape"
   ]
  },
  {
   "cell_type": "code",
   "execution_count": 130,
   "id": "4aa609f0",
   "metadata": {},
   "outputs": [
    {
     "data": {
      "text/plain": [
       "product_category_name            0\n",
       "product_category_name_english    0\n",
       "dtype: int64"
      ]
     },
     "execution_count": 130,
     "metadata": {},
     "output_type": "execute_result"
    }
   ],
   "source": [
    "product_category_name_translation.isnull().sum()"
   ]
  },
  {
   "cell_type": "code",
   "execution_count": 133,
   "id": "1c9032da",
   "metadata": {},
   "outputs": [
    {
     "data": {
      "text/html": [
       "<div>\n",
       "<style scoped>\n",
       "    .dataframe tbody tr th:only-of-type {\n",
       "        vertical-align: middle;\n",
       "    }\n",
       "\n",
       "    .dataframe tbody tr th {\n",
       "        vertical-align: top;\n",
       "    }\n",
       "\n",
       "    .dataframe thead th {\n",
       "        text-align: right;\n",
       "    }\n",
       "</style>\n",
       "<table border=\"1\" class=\"dataframe\">\n",
       "  <thead>\n",
       "    <tr style=\"text-align: right;\">\n",
       "      <th></th>\n",
       "      <th>product_id</th>\n",
       "      <th>product_category_name</th>\n",
       "      <th>product_name_lenght</th>\n",
       "      <th>product_description_lenght</th>\n",
       "      <th>product_photos_qty</th>\n",
       "      <th>product_weight_g</th>\n",
       "      <th>product_length_cm</th>\n",
       "      <th>product_height_cm</th>\n",
       "      <th>product_width_cm</th>\n",
       "      <th>translated_eng</th>\n",
       "    </tr>\n",
       "  </thead>\n",
       "  <tbody>\n",
       "    <tr>\n",
       "      <th>0</th>\n",
       "      <td>1e9e8ef04dbcff4541ed26657ea517e5</td>\n",
       "      <td>perfumaria</td>\n",
       "      <td>40.0</td>\n",
       "      <td>287.0</td>\n",
       "      <td>1.0</td>\n",
       "      <td>225.0</td>\n",
       "      <td>16.0</td>\n",
       "      <td>10.0</td>\n",
       "      <td>14.0</td>\n",
       "      <td>perfumery</td>\n",
       "    </tr>\n",
       "    <tr>\n",
       "      <th>1</th>\n",
       "      <td>3aa071139cb16b67ca9e5dea641aaa2f</td>\n",
       "      <td>artes</td>\n",
       "      <td>44.0</td>\n",
       "      <td>276.0</td>\n",
       "      <td>1.0</td>\n",
       "      <td>1000.0</td>\n",
       "      <td>30.0</td>\n",
       "      <td>18.0</td>\n",
       "      <td>20.0</td>\n",
       "      <td>art</td>\n",
       "    </tr>\n",
       "    <tr>\n",
       "      <th>2</th>\n",
       "      <td>96bd76ec8810374ed1b65e291975717f</td>\n",
       "      <td>esporte_lazer</td>\n",
       "      <td>46.0</td>\n",
       "      <td>250.0</td>\n",
       "      <td>1.0</td>\n",
       "      <td>154.0</td>\n",
       "      <td>18.0</td>\n",
       "      <td>9.0</td>\n",
       "      <td>15.0</td>\n",
       "      <td>sports_leisure</td>\n",
       "    </tr>\n",
       "    <tr>\n",
       "      <th>3</th>\n",
       "      <td>cef67bcfe19066a932b7673e239eb23d</td>\n",
       "      <td>bebes</td>\n",
       "      <td>27.0</td>\n",
       "      <td>261.0</td>\n",
       "      <td>1.0</td>\n",
       "      <td>371.0</td>\n",
       "      <td>26.0</td>\n",
       "      <td>4.0</td>\n",
       "      <td>26.0</td>\n",
       "      <td>baby</td>\n",
       "    </tr>\n",
       "    <tr>\n",
       "      <th>4</th>\n",
       "      <td>9dc1a7de274444849c219cff195d0b71</td>\n",
       "      <td>utilidades_domesticas</td>\n",
       "      <td>37.0</td>\n",
       "      <td>402.0</td>\n",
       "      <td>4.0</td>\n",
       "      <td>625.0</td>\n",
       "      <td>20.0</td>\n",
       "      <td>17.0</td>\n",
       "      <td>13.0</td>\n",
       "      <td>housewares</td>\n",
       "    </tr>\n",
       "  </tbody>\n",
       "</table>\n",
       "</div>"
      ],
      "text/plain": [
       "                         product_id  product_category_name  \\\n",
       "0  1e9e8ef04dbcff4541ed26657ea517e5             perfumaria   \n",
       "1  3aa071139cb16b67ca9e5dea641aaa2f                  artes   \n",
       "2  96bd76ec8810374ed1b65e291975717f          esporte_lazer   \n",
       "3  cef67bcfe19066a932b7673e239eb23d                  bebes   \n",
       "4  9dc1a7de274444849c219cff195d0b71  utilidades_domesticas   \n",
       "\n",
       "   product_name_lenght  product_description_lenght  product_photos_qty  \\\n",
       "0                 40.0                       287.0                 1.0   \n",
       "1                 44.0                       276.0                 1.0   \n",
       "2                 46.0                       250.0                 1.0   \n",
       "3                 27.0                       261.0                 1.0   \n",
       "4                 37.0                       402.0                 4.0   \n",
       "\n",
       "   product_weight_g  product_length_cm  product_height_cm  product_width_cm  \\\n",
       "0             225.0               16.0               10.0              14.0   \n",
       "1            1000.0               30.0               18.0              20.0   \n",
       "2             154.0               18.0                9.0              15.0   \n",
       "3             371.0               26.0                4.0              26.0   \n",
       "4             625.0               20.0               17.0              13.0   \n",
       "\n",
       "   translated_eng  \n",
       "0       perfumery  \n",
       "1             art  \n",
       "2  sports_leisure  \n",
       "3            baby  \n",
       "4      housewares  "
      ]
     },
     "execution_count": 133,
     "metadata": {},
     "output_type": "execute_result"
    }
   ],
   "source": [
    "#Extract the  matching translation word from nametranslation to into a new column into products\n",
    "\n",
    "products['translated_eng'] = products['product_category_name'].map(product_category_name_translation.set_index('product_category_name')['product_category_name_english'])\n",
    "products.head()"
   ]
  },
  {
   "cell_type": "code",
   "execution_count": 134,
   "id": "ad6d8d3c",
   "metadata": {},
   "outputs": [
    {
     "data": {
      "text/html": [
       "<div>\n",
       "<style scoped>\n",
       "    .dataframe tbody tr th:only-of-type {\n",
       "        vertical-align: middle;\n",
       "    }\n",
       "\n",
       "    .dataframe tbody tr th {\n",
       "        vertical-align: top;\n",
       "    }\n",
       "\n",
       "    .dataframe thead th {\n",
       "        text-align: right;\n",
       "    }\n",
       "</style>\n",
       "<table border=\"1\" class=\"dataframe\">\n",
       "  <thead>\n",
       "    <tr style=\"text-align: right;\">\n",
       "      <th></th>\n",
       "      <th>product_id</th>\n",
       "      <th>translated_eng</th>\n",
       "      <th>product_category_name</th>\n",
       "      <th>product_name_lenght</th>\n",
       "      <th>product_description_lenght</th>\n",
       "      <th>product_photos_qty</th>\n",
       "      <th>product_weight_g</th>\n",
       "      <th>product_length_cm</th>\n",
       "      <th>product_height_cm</th>\n",
       "      <th>product_width_cm</th>\n",
       "    </tr>\n",
       "  </thead>\n",
       "  <tbody>\n",
       "    <tr>\n",
       "      <th>0</th>\n",
       "      <td>1e9e8ef04dbcff4541ed26657ea517e5</td>\n",
       "      <td>perfumery</td>\n",
       "      <td>perfumaria</td>\n",
       "      <td>40.0</td>\n",
       "      <td>287.0</td>\n",
       "      <td>1.0</td>\n",
       "      <td>225.0</td>\n",
       "      <td>16.0</td>\n",
       "      <td>10.0</td>\n",
       "      <td>14.0</td>\n",
       "    </tr>\n",
       "    <tr>\n",
       "      <th>1</th>\n",
       "      <td>3aa071139cb16b67ca9e5dea641aaa2f</td>\n",
       "      <td>art</td>\n",
       "      <td>artes</td>\n",
       "      <td>44.0</td>\n",
       "      <td>276.0</td>\n",
       "      <td>1.0</td>\n",
       "      <td>1000.0</td>\n",
       "      <td>30.0</td>\n",
       "      <td>18.0</td>\n",
       "      <td>20.0</td>\n",
       "    </tr>\n",
       "    <tr>\n",
       "      <th>2</th>\n",
       "      <td>96bd76ec8810374ed1b65e291975717f</td>\n",
       "      <td>sports_leisure</td>\n",
       "      <td>esporte_lazer</td>\n",
       "      <td>46.0</td>\n",
       "      <td>250.0</td>\n",
       "      <td>1.0</td>\n",
       "      <td>154.0</td>\n",
       "      <td>18.0</td>\n",
       "      <td>9.0</td>\n",
       "      <td>15.0</td>\n",
       "    </tr>\n",
       "    <tr>\n",
       "      <th>3</th>\n",
       "      <td>cef67bcfe19066a932b7673e239eb23d</td>\n",
       "      <td>baby</td>\n",
       "      <td>bebes</td>\n",
       "      <td>27.0</td>\n",
       "      <td>261.0</td>\n",
       "      <td>1.0</td>\n",
       "      <td>371.0</td>\n",
       "      <td>26.0</td>\n",
       "      <td>4.0</td>\n",
       "      <td>26.0</td>\n",
       "    </tr>\n",
       "    <tr>\n",
       "      <th>4</th>\n",
       "      <td>9dc1a7de274444849c219cff195d0b71</td>\n",
       "      <td>housewares</td>\n",
       "      <td>utilidades_domesticas</td>\n",
       "      <td>37.0</td>\n",
       "      <td>402.0</td>\n",
       "      <td>4.0</td>\n",
       "      <td>625.0</td>\n",
       "      <td>20.0</td>\n",
       "      <td>17.0</td>\n",
       "      <td>13.0</td>\n",
       "    </tr>\n",
       "  </tbody>\n",
       "</table>\n",
       "</div>"
      ],
      "text/plain": [
       "                         product_id  translated_eng  product_category_name  \\\n",
       "0  1e9e8ef04dbcff4541ed26657ea517e5       perfumery             perfumaria   \n",
       "1  3aa071139cb16b67ca9e5dea641aaa2f             art                  artes   \n",
       "2  96bd76ec8810374ed1b65e291975717f  sports_leisure          esporte_lazer   \n",
       "3  cef67bcfe19066a932b7673e239eb23d            baby                  bebes   \n",
       "4  9dc1a7de274444849c219cff195d0b71      housewares  utilidades_domesticas   \n",
       "\n",
       "   product_name_lenght  product_description_lenght  product_photos_qty  \\\n",
       "0                 40.0                       287.0                 1.0   \n",
       "1                 44.0                       276.0                 1.0   \n",
       "2                 46.0                       250.0                 1.0   \n",
       "3                 27.0                       261.0                 1.0   \n",
       "4                 37.0                       402.0                 4.0   \n",
       "\n",
       "   product_weight_g  product_length_cm  product_height_cm  product_width_cm  \n",
       "0             225.0               16.0               10.0              14.0  \n",
       "1            1000.0               30.0               18.0              20.0  \n",
       "2             154.0               18.0                9.0              15.0  \n",
       "3             371.0               26.0                4.0              26.0  \n",
       "4             625.0               20.0               17.0              13.0  "
      ]
     },
     "execution_count": 134,
     "metadata": {},
     "output_type": "execute_result"
    }
   ],
   "source": [
    "# Get the current index of the column\n",
    "current_index = products.columns.get_loc(\"translated_eng\")\n",
    "\n",
    "# Remove the column from its current position and insert it at index 1\n",
    "column = products.pop(\"translated_eng\")\n",
    "products.insert(1, \"translated_eng\", column)\n",
    "products.head()\n"
   ]
  },
  {
   "cell_type": "code",
   "execution_count": 135,
   "id": "e21915ed",
   "metadata": {},
   "outputs": [
    {
     "data": {
      "text/plain": [
       "product_id                      0\n",
       "translated_eng                623\n",
       "product_category_name         610\n",
       "product_name_lenght           610\n",
       "product_description_lenght    610\n",
       "product_photos_qty            610\n",
       "product_weight_g                2\n",
       "product_length_cm               2\n",
       "product_height_cm               2\n",
       "product_width_cm                2\n",
       "dtype: int64"
      ]
     },
     "execution_count": 135,
     "metadata": {},
     "output_type": "execute_result"
    }
   ],
   "source": [
    "products.isnull().sum()"
   ]
  },
  {
   "cell_type": "code",
   "execution_count": 136,
   "id": "9bbb71a2",
   "metadata": {},
   "outputs": [],
   "source": [
    "# Fill missing values in product_category_name column with \"uncategorized\" only where it's null\n",
    "products.loc[products['product_category_name'].isnull(), 'product_category_name'] = 'uncategorized'\n",
    "products.loc[products['translated_eng'].isnull(), 'translated_eng'] = 'uncategorized'\n",
    "# List of columns to fill with \"NAN\"\n",
    "columns_to_fill = ['product_name_lenght', 'product_description_lenght', \n",
    "                   'product_photos_qty', 'product_weight_g', \n",
    "                   'product_length_cm', 'product_height_cm', \n",
    "                   'product_width_cm']\n",
    "\n",
    "# Fill missing values in specified columns with \"NAN\"\n",
    "products[columns_to_fill] = products[columns_to_fill].fillna(\"NaN\")"
   ]
  },
  {
   "cell_type": "code",
   "execution_count": 137,
   "id": "02e82299",
   "metadata": {
    "scrolled": true
   },
   "outputs": [
    {
     "data": {
      "text/plain": [
       "product_id                    0\n",
       "translated_eng                0\n",
       "product_category_name         0\n",
       "product_name_lenght           0\n",
       "product_description_lenght    0\n",
       "product_photos_qty            0\n",
       "product_weight_g              0\n",
       "product_length_cm             0\n",
       "product_height_cm             0\n",
       "product_width_cm              0\n",
       "dtype: int64"
      ]
     },
     "execution_count": 137,
     "metadata": {},
     "output_type": "execute_result"
    }
   ],
   "source": [
    "products.isnull().sum()"
   ]
  }
 ],
 "metadata": {
  "kernelspec": {
   "display_name": "Python 3 (ipykernel)",
   "language": "python",
   "name": "python3"
  },
  "language_info": {
   "codemirror_mode": {
    "name": "ipython",
    "version": 3
   },
   "file_extension": ".py",
   "mimetype": "text/x-python",
   "name": "python",
   "nbconvert_exporter": "python",
   "pygments_lexer": "ipython3",
   "version": "3.11.5"
  }
 },
 "nbformat": 4,
 "nbformat_minor": 5
}
